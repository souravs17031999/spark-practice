{
 "cells": [
  {
   "cell_type": "markdown",
   "metadata": {},
   "source": [
    "# **Udacity Capstone Project: Sparify**\n",
    "\n",
    "# Part 1: Project Overview and Problem Statement\n",
    "\n",
    "Many online services make use of subscriptions where users pay monthly for a product that they are using. When the platform is online, it can be profitable to implement a \"freemium\" model where the service is free to the population (usually with ads) and the subscription allows for the removal of ads.\n",
    "\n",
    "In such situations, being able to predict when a user will unsubscribe so that they can be targeted with promotions to try and convince them to stay can reduce loss of potential revenue over time. In this dataset, the actions for a given user have been recorded and will be used towards this end.\n",
    "\n",
    "However, online platforms tend to generate high volumes of data that can be difficult to keep in memory. Big data solutions such as Spark can help to distribute the workload among several computers, allowing machine learning to be done on larger datasets.\n",
    "\n",
    "Thus, we will use Spark in this project to help with our aim of creating a ML model to predict churn on a user level."
   ]
  },
  {
   "cell_type": "markdown",
   "metadata": {},
   "source": [
    "### Import Libraries"
   ]
  },
  {
   "cell_type": "code",
   "execution_count": 1,
   "metadata": {},
   "outputs": [],
   "source": [
    "# import libraries\n",
    "import matplotlib.pyplot as plt\n",
    "import numpy as np\n",
    "import pandas as pd\n",
    "import pickle as pkl\n",
    "import os\n",
    "from tqdm import *\n",
    "\n",
    "from time import time\n",
    "\n",
    "from pyspark.sql import SparkSession\n",
    "from pyspark.sql.functions import udf, col\n",
    "\n",
    "from pyspark.ml.feature import VectorAssembler, Normalizer\n",
    "from pyspark.ml.classification import LogisticRegression, DecisionTreeClassifier, LinearSVC\n",
    "from pyspark.ml.tuning import CrossValidator, ParamGridBuilder, CrossValidatorModel\n",
    "from pyspark.ml.evaluation import BinaryClassificationEvaluator\n",
    "\n",
    "plt.style.use(\"seaborn\")\n",
    "color_cycle = plt.rcParams['axes.prop_cycle'].by_key()['color']"
   ]
  },
  {
   "cell_type": "markdown",
   "metadata": {},
   "source": [
    "### Define Functions"
   ]
  },
  {
   "cell_type": "code",
   "execution_count": 2,
   "metadata": {},
   "outputs": [],
   "source": [
    "def print_cm(tp, tn, fp, fn, print_cm=True, return_cm=False):\n",
    "    \"\"\"\n",
    "    Print confusion matrix given tp, tn, fp and fn.\n",
    "    \n",
    "    Note that array is in following order tp, fp, fn, tn. (Row, across)\n",
    "    \n",
    "    :Inputs:\n",
    "        :tp: Int, True positives\n",
    "        :tn: Int, True Negatives\n",
    "        :fp: Int, False Positives\n",
    "        :fn: Int, False Negatives\n",
    "        :print_cm: Bool, if true then prints cm\n",
    "        :return_cm: Bool, if true then returns cm\n",
    "    :Returns:\n",
    "        :cm: Confusion matrix as numpy array\n",
    "    \"\"\"\n",
    "    \n",
    "    cm = np.array([[tp, fp],\n",
    "                   [fn, tn]])\n",
    "\n",
    "    if print_cm:\n",
    "        print(cm)\n",
    "    \n",
    "    if return_cm:\n",
    "        return cm"
   ]
  },
  {
   "cell_type": "code",
   "execution_count": 3,
   "metadata": {},
   "outputs": [],
   "source": [
    "def get_classification_score(tp, tn, fp, fn, print_stats=True, return_stats=False):\n",
    "    \"\"\"\n",
    "    Prints classification scores given tp, tn, fp and fn.\n",
    "    \n",
    "    :Inputs:\n",
    "        :tp: Int, True positives\n",
    "        :tn: Int, True Negatives\n",
    "        :fp: Int, False Positives\n",
    "        :fn: Int, False Negatives\n",
    "        :print_stats: Bool, if true then prints stats\n",
    "        :return_stats: Bool, if true then returns stats\n",
    "    :Returns:\n",
    "        :accuracy: Number of correct classifications over number of classifications\n",
    "        :precision: Number of true positives out of positive classifications\n",
    "        :recall: Number of true positives out of those that should have been true positives\n",
    "        :f1: Harmonic mean of precision and recall, good overall stat\n",
    "    \"\"\"\n",
    "    \n",
    "    accuracy = (tp+tn)/(tp+tn+fp+fn)\n",
    "\n",
    "    try: precision = tp / (tp + fp) \n",
    "    except ZeroDivisionError: precision = np.NaN\n",
    "\n",
    "    try: recall = tp / (tp + fn)\n",
    "    except ZeroDivisionError: recall = np.NaN\n",
    "    \n",
    "    try: f1 = 2*precision*recall / (precision+recall)\n",
    "    except ZeroDivisionError: f1 = np.NaN\n",
    "        \n",
    "    if print_stats:\n",
    "        print(\"_________________\")\n",
    "        print(\"Confusion Matrix:\")\n",
    "        print(\"\\tAccuracy:\", accuracy)\n",
    "        print(\"\\tPrecision:\", precision)\n",
    "        print(\"\\tRecall:\",recall)\n",
    "        print(\"\\tF1 Score:\", f1)\n",
    "        print(\"_________________\")\n",
    "        \n",
    "    if return_stats:\n",
    "        return accuracy, precision, recall, f1"
   ]
  },
  {
   "cell_type": "markdown",
   "metadata": {},
   "source": [
    "### Spark Setup"
   ]
  },
  {
   "cell_type": "code",
   "execution_count": 4,
   "metadata": {},
   "outputs": [],
   "source": [
    "# create a Spark session\n",
    "spark = SparkSession.builder.master(\"local\").appName(\"Sparkify\").getOrCreate()"
   ]
  },
  {
   "cell_type": "code",
   "execution_count": 5,
   "metadata": {},
   "outputs": [],
   "source": [
    "df = spark.read.json(\"mini_sparkify_event_data.json\")\n",
    "df.persist();"
   ]
  },
  {
   "cell_type": "code",
   "execution_count": 6,
   "metadata": {
    "scrolled": true
   },
   "outputs": [
    {
     "name": "stdout",
     "output_type": "stream",
     "text": [
      "root\n",
      " |-- artist: string (nullable = true)\n",
      " |-- auth: string (nullable = true)\n",
      " |-- firstName: string (nullable = true)\n",
      " |-- gender: string (nullable = true)\n",
      " |-- itemInSession: long (nullable = true)\n",
      " |-- lastName: string (nullable = true)\n",
      " |-- length: double (nullable = true)\n",
      " |-- level: string (nullable = true)\n",
      " |-- location: string (nullable = true)\n",
      " |-- method: string (nullable = true)\n",
      " |-- page: string (nullable = true)\n",
      " |-- registration: long (nullable = true)\n",
      " |-- sessionId: long (nullable = true)\n",
      " |-- song: string (nullable = true)\n",
      " |-- status: long (nullable = true)\n",
      " |-- ts: long (nullable = true)\n",
      " |-- userAgent: string (nullable = true)\n",
      " |-- userId: string (nullable = true)\n",
      "\n"
     ]
    }
   ],
   "source": [
    "df.printSchema()"
   ]
  },
  {
   "cell_type": "code",
   "execution_count": 7,
   "metadata": {},
   "outputs": [
    {
     "data": {
      "text/plain": [
       "[Row(artist='Martha Tilston', auth='Logged In', firstName='Colin', gender='M', itemInSession=50, lastName='Freeman', length=277.89016, level='paid', location='Bakersfield, CA', method='PUT', page='NextSong', registration=1538173362000, sessionId=29, song='Rockpools', status=200, ts=1538352117000, userAgent='Mozilla/5.0 (Windows NT 6.1; WOW64; rv:31.0) Gecko/20100101 Firefox/31.0', userId='30'),\n",
       " Row(artist='Five Iron Frenzy', auth='Logged In', firstName='Micah', gender='M', itemInSession=79, lastName='Long', length=236.09424, level='free', location='Boston-Cambridge-Newton, MA-NH', method='PUT', page='NextSong', registration=1538331630000, sessionId=8, song='Canada', status=200, ts=1538352180000, userAgent='\"Mozilla/5.0 (Windows NT 6.1; WOW64) AppleWebKit/537.36 (KHTML, like Gecko) Chrome/37.0.2062.103 Safari/537.36\"', userId='9'),\n",
       " Row(artist='Adam Lambert', auth='Logged In', firstName='Colin', gender='M', itemInSession=51, lastName='Freeman', length=282.8273, level='paid', location='Bakersfield, CA', method='PUT', page='NextSong', registration=1538173362000, sessionId=29, song='Time For Miracles', status=200, ts=1538352394000, userAgent='Mozilla/5.0 (Windows NT 6.1; WOW64; rv:31.0) Gecko/20100101 Firefox/31.0', userId='30'),\n",
       " Row(artist='Enigma', auth='Logged In', firstName='Micah', gender='M', itemInSession=80, lastName='Long', length=262.71302, level='free', location='Boston-Cambridge-Newton, MA-NH', method='PUT', page='NextSong', registration=1538331630000, sessionId=8, song='Knocking On Forbidden Doors', status=200, ts=1538352416000, userAgent='\"Mozilla/5.0 (Windows NT 6.1; WOW64) AppleWebKit/537.36 (KHTML, like Gecko) Chrome/37.0.2062.103 Safari/537.36\"', userId='9'),\n",
       " Row(artist='Daft Punk', auth='Logged In', firstName='Colin', gender='M', itemInSession=52, lastName='Freeman', length=223.60771, level='paid', location='Bakersfield, CA', method='PUT', page='NextSong', registration=1538173362000, sessionId=29, song='Harder Better Faster Stronger', status=200, ts=1538352676000, userAgent='Mozilla/5.0 (Windows NT 6.1; WOW64; rv:31.0) Gecko/20100101 Firefox/31.0', userId='30')]"
      ]
     },
     "execution_count": 7,
     "metadata": {},
     "output_type": "execute_result"
    }
   ],
   "source": [
    "# Showing a sample of the dataset\n",
    "df.head(5)"
   ]
  },
  {
   "cell_type": "markdown",
   "metadata": {},
   "source": [
    "I personally like taking a look at the head of a RDD by using the `show` method and then copying and pasting the preformatted table that gets printed out into notepad++ or any other code editor. I personally find it more readable than showing a head like above."
   ]
  },
  {
   "cell_type": "code",
   "execution_count": 8,
   "metadata": {
    "scrolled": true
   },
   "outputs": [
    {
     "name": "stdout",
     "output_type": "stream",
     "text": [
      "+----------------+---------+---------+------+-------------+--------+---------+-----+--------------------+------+--------+-------------+---------+--------------------+------+-------------+--------------------+------+\n",
      "|          artist|     auth|firstName|gender|itemInSession|lastName|   length|level|            location|method|    page| registration|sessionId|                song|status|           ts|           userAgent|userId|\n",
      "+----------------+---------+---------+------+-------------+--------+---------+-----+--------------------+------+--------+-------------+---------+--------------------+------+-------------+--------------------+------+\n",
      "|  Martha Tilston|Logged In|    Colin|     M|           50| Freeman|277.89016| paid|     Bakersfield, CA|   PUT|NextSong|1538173362000|       29|           Rockpools|   200|1538352117000|Mozilla/5.0 (Wind...|    30|\n",
      "|Five Iron Frenzy|Logged In|    Micah|     M|           79|    Long|236.09424| free|Boston-Cambridge-...|   PUT|NextSong|1538331630000|        8|              Canada|   200|1538352180000|\"Mozilla/5.0 (Win...|     9|\n",
      "|    Adam Lambert|Logged In|    Colin|     M|           51| Freeman| 282.8273| paid|     Bakersfield, CA|   PUT|NextSong|1538173362000|       29|   Time For Miracles|   200|1538352394000|Mozilla/5.0 (Wind...|    30|\n",
      "|          Enigma|Logged In|    Micah|     M|           80|    Long|262.71302| free|Boston-Cambridge-...|   PUT|NextSong|1538331630000|        8|Knocking On Forbi...|   200|1538352416000|\"Mozilla/5.0 (Win...|     9|\n",
      "|       Daft Punk|Logged In|    Colin|     M|           52| Freeman|223.60771| paid|     Bakersfield, CA|   PUT|NextSong|1538173362000|       29|Harder Better Fas...|   200|1538352676000|Mozilla/5.0 (Wind...|    30|\n",
      "+----------------+---------+---------+------+-------------+--------+---------+-----+--------------------+------+--------+-------------+---------+--------------------+------+-------------+--------------------+------+\n",
      "only showing top 5 rows\n",
      "\n"
     ]
    }
   ],
   "source": [
    "# Showing a sample of the dataset\n",
    "df.show(5)"
   ]
  },
  {
   "cell_type": "markdown",
   "metadata": {},
   "source": [
    "\n",
    "We can already see that there are 12 columns in our data set."
   ]
  },
  {
   "cell_type": "code",
   "execution_count": 9,
   "metadata": {},
   "outputs": [
    {
     "data": {
      "text/html": [
       "<div>\n",
       "<style scoped>\n",
       "    .dataframe tbody tr th:only-of-type {\n",
       "        vertical-align: middle;\n",
       "    }\n",
       "\n",
       "    .dataframe tbody tr th {\n",
       "        vertical-align: top;\n",
       "    }\n",
       "\n",
       "    .dataframe thead th {\n",
       "        text-align: right;\n",
       "    }\n",
       "</style>\n",
       "<table border=\"1\" class=\"dataframe\">\n",
       "  <thead>\n",
       "    <tr style=\"text-align: right;\">\n",
       "      <th></th>\n",
       "      <th>summary</th>\n",
       "      <th>count</th>\n",
       "      <th>mean</th>\n",
       "      <th>stddev</th>\n",
       "      <th>min</th>\n",
       "      <th>max</th>\n",
       "    </tr>\n",
       "  </thead>\n",
       "  <tbody>\n",
       "    <tr>\n",
       "      <th>1</th>\n",
       "      <td>artist</td>\n",
       "      <td>228108</td>\n",
       "      <td>551.0852017937219</td>\n",
       "      <td>1217.7693079161374</td>\n",
       "      <td>!!!</td>\n",
       "      <td>ÃÂlafur Arnalds</td>\n",
       "    </tr>\n",
       "    <tr>\n",
       "      <th>2</th>\n",
       "      <td>auth</td>\n",
       "      <td>286500</td>\n",
       "      <td>None</td>\n",
       "      <td>None</td>\n",
       "      <td>Cancelled</td>\n",
       "      <td>Logged Out</td>\n",
       "    </tr>\n",
       "    <tr>\n",
       "      <th>3</th>\n",
       "      <td>firstName</td>\n",
       "      <td>278154</td>\n",
       "      <td>None</td>\n",
       "      <td>None</td>\n",
       "      <td>Adelaida</td>\n",
       "      <td>Zyonna</td>\n",
       "    </tr>\n",
       "    <tr>\n",
       "      <th>4</th>\n",
       "      <td>gender</td>\n",
       "      <td>278154</td>\n",
       "      <td>None</td>\n",
       "      <td>None</td>\n",
       "      <td>F</td>\n",
       "      <td>M</td>\n",
       "    </tr>\n",
       "    <tr>\n",
       "      <th>5</th>\n",
       "      <td>itemInSession</td>\n",
       "      <td>286500</td>\n",
       "      <td>114.41421291448516</td>\n",
       "      <td>129.76726201140994</td>\n",
       "      <td>0</td>\n",
       "      <td>1321</td>\n",
       "    </tr>\n",
       "    <tr>\n",
       "      <th>6</th>\n",
       "      <td>lastName</td>\n",
       "      <td>278154</td>\n",
       "      <td>None</td>\n",
       "      <td>None</td>\n",
       "      <td>Adams</td>\n",
       "      <td>Wright</td>\n",
       "    </tr>\n",
       "    <tr>\n",
       "      <th>7</th>\n",
       "      <td>length</td>\n",
       "      <td>228108</td>\n",
       "      <td>249.1171819778458</td>\n",
       "      <td>99.23517921058361</td>\n",
       "      <td>0.78322</td>\n",
       "      <td>3024.66567</td>\n",
       "    </tr>\n",
       "    <tr>\n",
       "      <th>8</th>\n",
       "      <td>level</td>\n",
       "      <td>286500</td>\n",
       "      <td>None</td>\n",
       "      <td>None</td>\n",
       "      <td>free</td>\n",
       "      <td>paid</td>\n",
       "    </tr>\n",
       "    <tr>\n",
       "      <th>9</th>\n",
       "      <td>location</td>\n",
       "      <td>278154</td>\n",
       "      <td>None</td>\n",
       "      <td>None</td>\n",
       "      <td>Albany, OR</td>\n",
       "      <td>Winston-Salem, NC</td>\n",
       "    </tr>\n",
       "    <tr>\n",
       "      <th>10</th>\n",
       "      <td>method</td>\n",
       "      <td>286500</td>\n",
       "      <td>None</td>\n",
       "      <td>None</td>\n",
       "      <td>GET</td>\n",
       "      <td>PUT</td>\n",
       "    </tr>\n",
       "    <tr>\n",
       "      <th>11</th>\n",
       "      <td>page</td>\n",
       "      <td>286500</td>\n",
       "      <td>None</td>\n",
       "      <td>None</td>\n",
       "      <td>About</td>\n",
       "      <td>Upgrade</td>\n",
       "    </tr>\n",
       "    <tr>\n",
       "      <th>12</th>\n",
       "      <td>registration</td>\n",
       "      <td>278154</td>\n",
       "      <td>1.5353588340844272E12</td>\n",
       "      <td>3.291321616327586E9</td>\n",
       "      <td>1521380675000</td>\n",
       "      <td>1543247354000</td>\n",
       "    </tr>\n",
       "    <tr>\n",
       "      <th>13</th>\n",
       "      <td>sessionId</td>\n",
       "      <td>286500</td>\n",
       "      <td>1041.526554973822</td>\n",
       "      <td>726.7762634630741</td>\n",
       "      <td>1</td>\n",
       "      <td>2474</td>\n",
       "    </tr>\n",
       "    <tr>\n",
       "      <th>14</th>\n",
       "      <td>song</td>\n",
       "      <td>228108</td>\n",
       "      <td>Infinity</td>\n",
       "      <td>NaN</td>\n",
       "      <td>ÃÂg ÃÂtti GrÃÂ¡a ÃÂsku</td>\n",
       "      <td>ÃÂau hafa sloppiÃÂ° undan ÃÂ¾unga myrkursins</td>\n",
       "    </tr>\n",
       "    <tr>\n",
       "      <th>15</th>\n",
       "      <td>status</td>\n",
       "      <td>286500</td>\n",
       "      <td>210.05459685863875</td>\n",
       "      <td>31.50507848842214</td>\n",
       "      <td>200</td>\n",
       "      <td>404</td>\n",
       "    </tr>\n",
       "    <tr>\n",
       "      <th>16</th>\n",
       "      <td>ts</td>\n",
       "      <td>286500</td>\n",
       "      <td>1.5409568898104834E12</td>\n",
       "      <td>1.5075439608226302E9</td>\n",
       "      <td>1538352117000</td>\n",
       "      <td>1543799476000</td>\n",
       "    </tr>\n",
       "    <tr>\n",
       "      <th>17</th>\n",
       "      <td>userAgent</td>\n",
       "      <td>278154</td>\n",
       "      <td>None</td>\n",
       "      <td>None</td>\n",
       "      <td>\"Mozilla/5.0 (Macintosh; Intel Mac OS X 10_10)...</td>\n",
       "      <td>Mozilla/5.0 (compatible; MSIE 9.0; Windows NT ...</td>\n",
       "    </tr>\n",
       "    <tr>\n",
       "      <th>18</th>\n",
       "      <td>userId</td>\n",
       "      <td>286500</td>\n",
       "      <td>59682.02278593872</td>\n",
       "      <td>109091.9499991047</td>\n",
       "      <td></td>\n",
       "      <td>99</td>\n",
       "    </tr>\n",
       "  </tbody>\n",
       "</table>\n",
       "</div>"
      ],
      "text/plain": [
       "0         summary   count                   mean                stddev  \\\n",
       "1          artist  228108      551.0852017937219    1217.7693079161374   \n",
       "2            auth  286500                   None                  None   \n",
       "3       firstName  278154                   None                  None   \n",
       "4          gender  278154                   None                  None   \n",
       "5   itemInSession  286500     114.41421291448516    129.76726201140994   \n",
       "6        lastName  278154                   None                  None   \n",
       "7          length  228108      249.1171819778458     99.23517921058361   \n",
       "8           level  286500                   None                  None   \n",
       "9        location  278154                   None                  None   \n",
       "10         method  286500                   None                  None   \n",
       "11           page  286500                   None                  None   \n",
       "12   registration  278154  1.5353588340844272E12   3.291321616327586E9   \n",
       "13      sessionId  286500      1041.526554973822     726.7762634630741   \n",
       "14           song  228108               Infinity                   NaN   \n",
       "15         status  286500     210.05459685863875     31.50507848842214   \n",
       "16             ts  286500  1.5409568898104834E12  1.5075439608226302E9   \n",
       "17      userAgent  278154                   None                  None   \n",
       "18         userId  286500      59682.02278593872     109091.9499991047   \n",
       "\n",
       "0                                                 min  \\\n",
       "1                                                 !!!   \n",
       "2                                           Cancelled   \n",
       "3                                            Adelaida   \n",
       "4                                                   F   \n",
       "5                                                   0   \n",
       "6                                               Adams   \n",
       "7                                             0.78322   \n",
       "8                                                free   \n",
       "9                                          Albany, OR   \n",
       "10                                                GET   \n",
       "11                                              About   \n",
       "12                                      1521380675000   \n",
       "13                                                  1   \n",
       "14                     \n",
       "ÃÂg ÃÂtti GrÃÂ¡a ÃÂsku   \n",
       "15                                                200   \n",
       "16                                      1538352117000   \n",
       "17  \"Mozilla/5.0 (Macintosh; Intel Mac OS X 10_10)...   \n",
       "18                                                      \n",
       "\n",
       "0                                                 max  \n",
       "1                                   ÃÂlafur Arnalds  \n",
       "2                                          Logged Out  \n",
       "3                                              Zyonna  \n",
       "4                                                   M  \n",
       "5                                                1321  \n",
       "6                                              Wright  \n",
       "7                                          3024.66567  \n",
       "8                                                paid  \n",
       "9                                   Winston-Salem, NC  \n",
       "10                                                PUT  \n",
       "11                                            Upgrade  \n",
       "12                                      1543247354000  \n",
       "13                                               2474  \n",
       "14   ÃÂau hafa sloppiÃÂ° undan ÃÂ¾unga myrkursins  \n",
       "15                                                404  \n",
       "16                                      1543799476000  \n",
       "17  Mozilla/5.0 (compatible; MSIE 9.0; Windows NT ...  \n",
       "18                                                 99  "
      ]
     },
     "execution_count": 9,
     "metadata": {},
     "output_type": "execute_result"
    }
   ],
   "source": [
    "# Get a quick description of the dataset\n",
    "spark_description = df.describe().collect()\n",
    "\n",
    "# Create Dict for Description Dataframe (Doing this for easy viewing)\n",
    "description_dict = dict()\n",
    "for i in spark_description:\n",
    "    \n",
    "    # Turn i into dictionary\n",
    "    i = i.asDict()\n",
    "    \n",
    "    for k, v in i.items():\n",
    "        try:\n",
    "            description_dict[k].append(v)\n",
    "        except KeyError:\n",
    "            description_dict[k] = []\n",
    "            description_dict[k].append(v)\n",
    "\n",
    "# Create dataframe and reshape\n",
    "df_desc = pd.DataFrame(description_dict).T.reset_index()\n",
    "df_desc.columns = df_desc.iloc[0]\n",
    "df_desc = df_desc[1:]\n",
    "\n",
    "df_desc"
   ]
  },
  {
   "cell_type": "markdown",
   "metadata": {},
   "source": [
    "## Data Cleaning\n",
    "\n",
    "### First Looks\n",
    "\n",
    "Now that the data has been imported, the first and most obvious thing to check for is missing and duplicated values. \n"
   ]
  },
  {
   "cell_type": "code",
   "execution_count": 10,
   "metadata": {},
   "outputs": [],
   "source": [
    "# Create Temp View\n",
    "df.createOrReplaceTempView(\"df\")"
   ]
  },
  {
   "cell_type": "markdown",
   "metadata": {},
   "source": [
    "Now that this is complete, we can look at the null values for each column."
   ]
  },
  {
   "cell_type": "code",
   "execution_count": 11,
   "metadata": {},
   "outputs": [
    {
     "name": "stdout",
     "output_type": "stream",
     "text": [
      "artist 58392\n",
      "auth None\n",
      "firstName 8346\n",
      "gender 8346\n",
      "itemInSession None\n",
      "lastName 8346\n",
      "length 58392\n",
      "level None\n",
      "location 8346\n",
      "method None\n",
      "page None\n",
      "registration 8346\n",
      "sessionId None\n",
      "song 58392\n",
      "status None\n",
      "ts None\n",
      "userAgent 8346\n",
      "userId None\n"
     ]
    }
   ],
   "source": [
    "null_dict = {}\n",
    "\n",
    "for i in df.columns:\n",
    "    \n",
    "    nulls = spark.sql(\"SELECT SUM(CASE WHEN {} IS NULL THEN 1 ELSE 0 END) AS null_{} \\\n",
    "                    FROM df \\\n",
    "                    where {} is null\".format(i, i, i)).collect()[0][\"null_{}\".format(i)]\n",
    "    \n",
    "    print(i, nulls)\n",
    "    null_dict[i] = nulls"
   ]
  },
  {
   "cell_type": "code",
   "execution_count": 12,
   "metadata": {},
   "outputs": [
    {
     "data": {
      "text/plain": [
       "[Row(userId='98', ts=1538838475000, n_rows=3),\n",
       " Row(userId='95', ts=1539665400000, n_rows=3),\n",
       " Row(userId='100022', ts=1541463867000, n_rows=3),\n",
       " Row(userId='', ts=1538488477000, n_rows=2),\n",
       " Row(userId='118', ts=1540521007000, n_rows=2),\n",
       " Row(userId='152', ts=1543206099000, n_rows=2),\n",
       " Row(userId='30', ts=1543436963000, n_rows=2),\n",
       " Row(userId='36', ts=1539070836000, n_rows=2),\n",
       " Row(userId='9', ts=1539714540000, n_rows=2),\n",
       " Row(userId='132', ts=1542791668000, n_rows=2)]"
      ]
     },
     "execution_count": 12,
     "metadata": {},
     "output_type": "execute_result"
    }
   ],
   "source": [
    "# Test for unique key\n",
    "spark.sql(\"SELECT userId, ts, count(*) AS n_rows \\\n",
    "        FROM df \\\n",
    "        GROUP BY 1, 2\\\n",
    "        HAVING count(*) > 1 \\\n",
    "        ORDER BY 3 DESC \\\n",
    "        LIMIT 10\").collect()"
   ]
  },
  {
   "cell_type": "code",
   "execution_count": 13,
   "metadata": {},
   "outputs": [
    {
     "data": {
      "text/plain": [
       "[Row(count(1)=783)]"
      ]
     },
     "execution_count": 13,
     "metadata": {},
     "output_type": "execute_result"
    }
   ],
   "source": [
    "# Find number of userid-timestamp combinations that have duplicated rows\n",
    "spark.sql(\"WITH T AS (SELECT userId, ts, count(*) AS n_rows \\\n",
    "        FROM df \\\n",
    "        GROUP BY 1, 2\\\n",
    "        HAVING COUNT(*) > 1 \\\n",
    "        ORDER BY 3 DESC \\\n",
    "        ) \\\n",
    "        SELECT COUNT(*) FROM T\").collect()"
   ]
  },
  {
   "cell_type": "markdown",
   "metadata": {},
   "source": [
    "### Remove Duplicates"
   ]
  },
  {
   "cell_type": "code",
   "execution_count": 14,
   "metadata": {},
   "outputs": [
    {
     "data": {
      "text/plain": [
       "[Row(artist='Mase', auth='Logged In', firstName='Sawyer', gender='M', itemInSession=70, lastName='Larson', length=255.16363, level='free', location='Houston-The Woodlands-Sugar Land, TX', method='PUT', page='NextSong', registration=1538069638000, sessionId=493, song=\"Lookin' At Me [feat. Puff Daddy] (Album Version)\", status=200, ts=1538838475000, userAgent='\"Mozilla/5.0 (Macintosh; Intel Mac OS X 10_9_4) AppleWebKit/537.36 (KHTML, like Gecko) Chrome/36.0.1985.143 Safari/537.36\"', userId='98'),\n",
       " Row(artist=None, auth='Logged In', firstName='Sawyer', gender='M', itemInSession=71, lastName='Larson', length=None, level='free', location='Houston-The Woodlands-Sugar Land, TX', method='GET', page='Home', registration=1538069638000, sessionId=493, song=None, status=200, ts=1538838475000, userAgent='\"Mozilla/5.0 (Macintosh; Intel Mac OS X 10_9_4) AppleWebKit/537.36 (KHTML, like Gecko) Chrome/36.0.1985.143 Safari/537.36\"', userId='98'),\n",
       " Row(artist=None, auth='Logged In', firstName='Sawyer', gender='M', itemInSession=72, lastName='Larson', length=None, level='free', location='Houston-The Woodlands-Sugar Land, TX', method='GET', page='Home', registration=1538069638000, sessionId=493, song=None, status=200, ts=1538838475000, userAgent='\"Mozilla/5.0 (Macintosh; Intel Mac OS X 10_9_4) AppleWebKit/537.36 (KHTML, like Gecko) Chrome/36.0.1985.143 Safari/537.36\"', userId='98')]"
      ]
     },
     "execution_count": 14,
     "metadata": {},
     "output_type": "execute_result"
    }
   ],
   "source": [
    "# Get an example with duplicated rows\n",
    "spark.sql(\"SELECT * \\\n",
    "        FROM df \\\n",
    "        WHERE userId = 98\\\n",
    "        AND ts = 1538838475000\").collect()"
   ]
  },
  {
   "cell_type": "code",
   "execution_count": 15,
   "metadata": {},
   "outputs": [
    {
     "data": {
      "text/plain": [
       "[Row(n_duplicated=0)]"
      ]
     },
     "execution_count": 15,
     "metadata": {},
     "output_type": "execute_result"
    }
   ],
   "source": [
    "# Find the unique key\n",
    "spark.sql(\"WITH T AS (SELECT userId, ts, itemInSession, page, count(*) AS n_rows \\\n",
    "        FROM df \\\n",
    "        GROUP BY 1, 2, 3, 4\\\n",
    "        HAVING count(*) > 1 \\\n",
    "        ORDER BY 5 DESC \\\n",
    "        ) \\\n",
    "        SELECT COUNT(*) AS n_duplicated FROM T\").collect()"
   ]
  },
  {
   "cell_type": "code",
   "execution_count": 16,
   "metadata": {},
   "outputs": [],
   "source": [
    "df_unique = spark.sql(\"WITH T AS (SELECT *, ROW_NUMBER() OVER (PARTITION BY userId, ts ORDER BY itemInSession) as rank\\\n",
    "                    FROM df ) \\\n",
    "                    SELECT * FROM T \\\n",
    "                    WHERE rank = 1\")\n",
    "\n",
    "# Create Temp View\n",
    "df_unique.createOrReplaceTempView(\"df_unique\")"
   ]
  },
  {
   "cell_type": "code",
   "execution_count": 17,
   "metadata": {},
   "outputs": [
    {
     "data": {
      "text/plain": [
       "[Row(n_duplicated=0)]"
      ]
     },
     "execution_count": 17,
     "metadata": {},
     "output_type": "execute_result"
    }
   ],
   "source": [
    "# Verify clean successful\n",
    "spark.sql(\"WITH T AS (SELECT userId, ts, itemInSession, count(*) AS n_rows \\\n",
    "        FROM df_unique \\\n",
    "        GROUP BY 1, 2, 3\\\n",
    "        HAVING count(*) > 1 \\\n",
    "        ORDER BY 4 DESC \\\n",
    "        ) \\\n",
    "        SELECT COUNT(*) AS n_duplicated FROM T\").collect()"
   ]
  },
  {
   "cell_type": "markdown",
   "metadata": {},
   "source": [
    "Very good! We've gotten rid of events that happen on the same timestamp, which means that we've taken care of duplicated values."
   ]
  },
  {
   "cell_type": "code",
   "execution_count": 18,
   "metadata": {
    "scrolled": true
   },
   "outputs": [
    {
     "data": {
      "text/plain": [
       "[Row(artist=None, auth='Logged Out', firstName=None, gender=None, itemInSession=103, lastName=None, length=None, level='paid', location=None, method='GET', page='Home', registration=None, sessionId=141, song=None, status=200, ts=1538391913000, userAgent=None, userId='', rank=1)]"
      ]
     },
     "execution_count": 18,
     "metadata": {},
     "output_type": "execute_result"
    }
   ],
   "source": [
    "df_unique.head(1)"
   ]
  },
  {
   "cell_type": "markdown",
   "metadata": {},
   "source": [
    "### Missing Values\n"
   ]
  },
  {
   "cell_type": "code",
   "execution_count": 19,
   "metadata": {},
   "outputs": [
    {
     "name": "stdout",
     "output_type": "stream",
     "text": [
      "{'firstName': 0, 'gender': 0, 'lastName': 0, 'location': 0, 'userAgent': 0}\n"
     ]
    }
   ],
   "source": [
    "# Vertify All registrations have non-null in relevant columns\n",
    "nan_dict = {}\n",
    "\n",
    "for i in [\"firstName\", \"gender\", \"lastName\", \"location\", \"userAgent\"]:\n",
    "    returns = spark.sql(\"\"\"\n",
    "        SELECT SUM(CASE WHEN {} IS NULL THEN 1 ELSE 0 END) AS nulls \n",
    "        FROM df_unique\n",
    "        WHERE registration IS NOT NULL\n",
    "    \"\"\".format(i)).collect()\n",
    "    \n",
    "    nan_dict[i] = returns[0].nulls\n",
    "    \n",
    "print(nan_dict)"
   ]
  },
  {
   "cell_type": "code",
   "execution_count": 20,
   "metadata": {},
   "outputs": [
    {
     "name": "stdout",
     "output_type": "stream",
     "text": [
      "{'firstName': 0, 'gender': 0, 'lastName': 0, 'location': 0, 'userAgent': 0}\n"
     ]
    }
   ],
   "source": [
    "# Vertify All non-registrations *have* null in relevant columns\n",
    "nan_dict = {}\n",
    "\n",
    "for i in [\"firstName\", \"gender\", \"lastName\", \"location\", \"userAgent\"]:\n",
    "    returns = spark.sql(\"\"\"\n",
    "        SELECT SUM(CASE WHEN {} IS NOT NULL THEN 1 ELSE 0 END) AS nulls\n",
    "        FROM df_unique\n",
    "        WHERE registration IS NULL\n",
    "    \"\"\".format(i)).collect()\n",
    "    \n",
    "    nan_dict[i] = returns[0].nulls\n",
    "    \n",
    "print(nan_dict)"
   ]
  },
  {
   "cell_type": "markdown",
   "metadata": {},
   "source": [
    "Alright! This is actually shaping up to be a relatively clean dataset!\n",
    "\n",
    "Before we check the song and artist columns, we should make sure that we know which "
   ]
  },
  {
   "cell_type": "code",
   "execution_count": 21,
   "metadata": {
    "scrolled": false
   },
   "outputs": [
    {
     "data": {
      "text/plain": [
       "[Row(page='Cancel', n_rows=52, null_songs=52, null_artist=52),\n",
       " Row(page='Submit Downgrade', n_rows=63, null_songs=63, null_artist=63),\n",
       " Row(page='Thumbs Down', n_rows=2546, null_songs=2546, null_artist=2546),\n",
       " Row(page='Home', n_rows=14235, null_songs=14235, null_artist=14235),\n",
       " Row(page='Downgrade', n_rows=2001, null_songs=2001, null_artist=2001),\n",
       " Row(page='Roll Advert', n_rows=3805, null_songs=3805, null_artist=3805),\n",
       " Row(page='Logout', n_rows=3226, null_songs=3226, null_artist=3226),\n",
       " Row(page='Save Settings', n_rows=310, null_songs=310, null_artist=310),\n",
       " Row(page='Cancellation Confirmation', n_rows=51, null_songs=51, null_artist=51),\n",
       " Row(page='About', n_rows=904, null_songs=904, null_artist=904),\n",
       " Row(page='Submit Registration', n_rows=5, null_songs=5, null_artist=5),\n",
       " Row(page='Settings', n_rows=1470, null_songs=1470, null_artist=1470),\n",
       " Row(page='Login', n_rows=3240, null_songs=3240, null_artist=3240),\n",
       " Row(page='Register', n_rows=18, null_songs=18, null_artist=18),\n",
       " Row(page='Add to Playlist', n_rows=6329, null_songs=6329, null_artist=6329),\n",
       " Row(page='Add Friend', n_rows=4277, null_songs=4277, null_artist=4277),\n",
       " Row(page='NextSong', n_rows=228051, null_songs=0, null_artist=0),\n",
       " Row(page='Thumbs Up', n_rows=12551, null_songs=12551, null_artist=12551),\n",
       " Row(page='Help', n_rows=1685, null_songs=1685, null_artist=1685),\n",
       " Row(page='Upgrade', n_rows=487, null_songs=487, null_artist=487),\n",
       " Row(page='Error', n_rows=249, null_songs=249, null_artist=249),\n",
       " Row(page='Submit Upgrade', n_rows=159, null_songs=159, null_artist=159)]"
      ]
     },
     "execution_count": 21,
     "metadata": {},
     "output_type": "execute_result"
    }
   ],
   "source": [
    "spark.sql(\"\"\"\n",
    "    SELECT page,\n",
    "           COUNT(*)                                        AS n_rows,\n",
    "           SUM(CASE WHEN song IS NULL THEN 1 ELSE 0 END)   AS null_songs,\n",
    "           SUM(CASE WHEN artist IS NULL THEN 1 ELSE 0 END) AS null_artist\n",
    "    FROM df_unique\n",
    "    GROUP BY 1\n",
    "\"\"\").collect()"
   ]
  },
  {
   "cell_type": "markdown",
   "metadata": {},
   "source": [
    "We can see that the number of rows gives us the number of rows that should be null in the case that the page does not require that a song plays.\n",
    "\n",
    "It seems that the only case where there are not nulls is in the case of `NextSong` where we don't expect the songs to be null.\n",
    "\n",
    "Luckily, when this is the case, the rows are completely filled. So there does not seem to be any issues with null values that I can see."
   ]
  },
  {
   "cell_type": "markdown",
   "metadata": {},
   "source": [
    "## Exploratory Data Analysis\n"
   ]
  },
  {
   "cell_type": "code",
   "execution_count": 22,
   "metadata": {},
   "outputs": [
    {
     "data": {
      "text/plain": [
       "[Row(is_registered=0, count(DISTINCT userId)=1),\n",
       " Row(is_registered=1, count(DISTINCT userId)=225)]"
      ]
     },
     "execution_count": 22,
     "metadata": {},
     "output_type": "execute_result"
    }
   ],
   "source": [
    "spark.sql(\"\"\"\n",
    "    SELECT CASE WHEN registration IS NULL THEN 0 ELSE 1 END AS is_registered,\n",
    "    COUNT(DISTINCT du.userId) \n",
    "    FROM df_unique AS du \n",
    "    GROUP BY 1\n",
    "    ORDER BY 1\n",
    "\n",
    "\"\"\").collect()"
   ]
  },
  {
   "cell_type": "markdown",
   "metadata": {},
   "source": [
    "Here, we can see that there are 226 users in total. For the data that we have, almost all of them are registered (225 to be precise). We also have one user in our dataset that is not registered."
   ]
  },
  {
   "cell_type": "markdown",
   "metadata": {},
   "source": [
    "### Which pages are the most visited for each user?"
   ]
  },
  {
   "cell_type": "code",
   "execution_count": 23,
   "metadata": {},
   "outputs": [],
   "source": [
    "# Find non distinct visits\n",
    "response = spark.sql(\"\"\"\n",
    "    SELECT page, COUNT(userId) AS counts\n",
    "    FROM df_unique\n",
    "    GROUP BY 1\n",
    "    ORDER BY 1 DESC\n",
    "\"\"\").collect()\n",
    "\n",
    "pages_non_distinct_view = [i.page for i in response]\n",
    "non_distinct_view = [i.counts for i in response]"
   ]
  },
  {
   "cell_type": "code",
   "execution_count": 24,
   "metadata": {},
   "outputs": [
    {
     "data": {
      "image/png": "[encoded data removed]",
      "text/plain": [
       "<matplotlib.figure.Figure at 0x7f75e56d1630>"
      ]
     },
     "metadata": {
      "needs_background": "light"
     },
     "output_type": "display_data"
    }
   ],
   "source": [
    "# Find visits for distinct users\n",
    "response = spark.sql(\"\"\"\n",
    "    WITH user_pages AS (\n",
    "        SELECT DISTINCT userId, \n",
    "                        page \n",
    "        FROM df_unique\n",
    "    )\n",
    "    \n",
    "    SELECT page, COUNT(DISTINCT userId) AS counts\n",
    "    FROM user_pages\n",
    "    GROUP BY 1\n",
    "    ORDER BY 1 DESC\n",
    "\"\"\").collect()\n",
    "\n",
    "distinct_view = [i.counts for i in response]\n",
    "\n",
    "# Convert aggregated results to dataframe\n",
    "df_page_vists = pd.DataFrame(dict(page = pages_non_distinct_view,\n",
    "                                  distinct_view = distinct_view,\n",
    "                                  non_distinct_view = non_distinct_view))\n",
    "\n",
    "# Plot values from dataframe\n",
    "ax = df_page_vists.sort_values(\"non_distinct_view\").set_index(\"page\")[\"non_distinct_view\"].plot(kind=\"barh\", \n",
    "                                                                                                color=color_cycle[0])\n",
    "ax.plot();"
   ]
  },
  {
   "cell_type": "markdown",
   "metadata": {},
   "source": [
    "We can see from this graph that users tend to use the service for playing music, obviously. They will also visit the home button a lot of times and rate music that they like. \n",
    "\n",
    "We can see that cancellation confirmations tend to be very unlikely, which means that our dataset after the feature engineering is complete will be imbalanced."
   ]
  },
  {
   "cell_type": "code",
   "execution_count": 25,
   "metadata": {
    "scrolled": true
   },
   "outputs": [
    {
     "data": {
      "image/png": "[encoded data removed]",
      "text/plain": [
       "<matplotlib.figure.Figure at 0x7f75dc9aaa90>"
      ]
     },
     "metadata": {
      "needs_background": "light"
     },
     "output_type": "display_data"
    }
   ],
   "source": [
    "ax = df_page_vists.sort_values(\"distinct_view\").set_index(\"page\")[\"distinct_view\"].plot(kind=\"barh\", \n",
    "                                                                                                color=color_cycle[0])\n",
    "ax.plot();"
   ]
  },
  {
   "cell_type": "markdown",
   "metadata": {},
   "source": [
    "### What location are our users mostly from?"
   ]
  },
  {
   "cell_type": "code",
   "execution_count": 26,
   "metadata": {},
   "outputs": [
    {
     "data": {
      "image/png": "[encoded data removed]",
      "text/plain": [
       "<matplotlib.figure.Figure at 0x7f75dcad1470>"
      ]
     },
     "metadata": {
      "needs_background": "light"
     },
     "output_type": "display_data"
    }
   ],
   "source": [
    "response = spark.sql(\"\"\"\n",
    "    WITH user_locations AS (\n",
    "        SELECT DISTINCT userId, \n",
    "                        location \n",
    "        FROM df_unique\n",
    "    )\n",
    "    \n",
    "    SELECT location, COUNT(DISTINCT userId) AS counts\n",
    "    FROM user_locations\n",
    "    GROUP BY 1\n",
    "    ORDER BY 2 DESC\n",
    "    LIMIT 25  -- Note that without a limit, the graph will overplot\n",
    "\"\"\").collect()\n",
    "\n",
    "location = [i.location for i in response]\n",
    "location_counts = [i.counts for i in response]\n",
    "\n",
    "df_locations = pd.DataFrame(dict(location = location,\n",
    "                                 location_counts = location_counts))\n",
    "\n",
    "ax = df_locations.sort_values(\"location_counts\").set_index(\"location\")[\"location_counts\"].plot(kind=\"barh\", \n",
    "                                                                                               color=color_cycle[0])\n",
    "ax.plot();"
   ]
  },
  {
   "cell_type": "markdown",
   "metadata": {},
   "source": [
    "We can see that people come from various places from across the united states, Mostly the south west such as California, Texas and Arizona.\n",
    "\n",
    "However, it seems that somehow multiple cities and areas have been combined. Making this column a little less clean than I had expected."
   ]
  },
  {
   "cell_type": "markdown",
   "metadata": {},
   "source": [
    "### What does the gender distribution of our dataset look like?"
   ]
  },
  {
   "cell_type": "code",
   "execution_count": 27,
   "metadata": {
    "scrolled": false
   },
   "outputs": [
    {
     "data": {
      "text/plain": [
       "[Row(gender=None, counts=1),\n",
       " Row(gender='F', counts=104),\n",
       " Row(gender='M', counts=121)]"
      ]
     },
     "execution_count": 27,
     "metadata": {},
     "output_type": "execute_result"
    }
   ],
   "source": [
    "results_gender = spark.sql(\"\"\"\n",
    "    WITH user_gender AS (\n",
    "        SELECT DISTINCT userId, gender\n",
    "        FROM df_unique\n",
    "    )\n",
    "\n",
    "    SELECT gender, COUNT(*) AS counts\n",
    "    FROM user_gender\n",
    "    GROUP BY 1\n",
    "    ORDER BY 1\n",
    "\"\"\").collect()\n",
    "\n",
    "results_gender"
   ]
  },
  {
   "cell_type": "markdown",
   "metadata": {},
   "source": [
    "It seems that our gender distribution is roughly 1.16 female for every 1 male. The person with a null gender is our unregistered user."
   ]
  },
  {
   "cell_type": "code",
   "execution_count": 28,
   "metadata": {},
   "outputs": [
    {
     "data": {
      "text/plain": [
       "(104, 121)"
      ]
     },
     "execution_count": 28,
     "metadata": {},
     "output_type": "execute_result"
    }
   ],
   "source": [
    "# Extract gender distribution\n",
    "n_males = [i.counts for i in results_gender if i.gender=='F'][0]\n",
    "n_females = [i.counts for i in results_gender if i.gender=='M'][0]\n",
    "\n",
    "n_males, n_females"
   ]
  },
  {
   "cell_type": "code",
   "execution_count": 29,
   "metadata": {},
   "outputs": [
    {
     "data": {
      "image/png": "[encoded data removed]",
      "text/plain": [
       "<matplotlib.figure.Figure at 0x7f75d9d90668>"
      ]
     },
     "metadata": {},
     "output_type": "display_data"
    }
   ],
   "source": [
    "fig, ax = plt.subplots(figsize=(10, 6), edgecolor='k', facecolor='white')\n",
    "plt.bar([\"males\", \"females\"], [n_males, n_females])\n",
    "plt.title(\"Number of males vs number of females\")\n",
    "plt.ylabel(\"Count\")\n",
    "plt.show()"
   ]
  }
 ],
 "metadata": {
  "kernelspec": {
   "display_name": "Python 3",
   "language": "python",
   "name": "python3"
  },
  "language_info": {
   "codemirror_mode": {
    "name": "ipython",
    "version": 3
   },
   "file_extension": ".py",
   "mimetype": "text/x-python",
   "name": "python",
   "nbconvert_exporter": "python",
   "pygments_lexer": "ipython3",
   "version": "3.7.0b5"
  }
 },
 "nbformat": 4,
 "nbformat_minor": 2
}
